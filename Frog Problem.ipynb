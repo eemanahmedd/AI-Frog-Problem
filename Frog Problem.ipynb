{
 "cells": [
  {
   "cell_type": "code",
   "execution_count": 15,
   "id": "f96145a0",
   "metadata": {},
   "outputs": [],
   "source": [
    "# representation of the frogs\n",
    "\n",
    "start = [1, 1, 1, 0, -1, -1, -1]  # '1' represents green frog and '-1' represents brown frog"
   ]
  },
  {
   "cell_type": "code",
   "execution_count": 24,
   "id": "a1693443",
   "metadata": {},
   "outputs": [],
   "source": [
    "# generate legal moves for a given position\n",
    "\n",
    "def legalMoves(stones):\n",
    "    moves = []\n",
    "    for pos, piece in enumerate( stones ):\n",
    "        jumpMove = pos + (piece * 2)\n",
    "        move = pos + (piece)\n",
    "        if ( piece == 0 ):\n",
    "            continue\n",
    "        if (not (( jumpMove < 0 ) or ( jumpMove >= len(stones)))):\n",
    "            if (stones[jumpMove] == 0):\n",
    "                t = list(stones)\n",
    "                t[pos] = 0\n",
    "                t[jumpMove] = piece\n",
    "                moves.append(t)\n",
    "        if (not ((move < 0) or ( move >= len(stones)))):\n",
    "            if ( stones[move] == 0):\n",
    "                t = list(stones)\n",
    "                t[pos] = 0\n",
    "                t[move] = piece\n",
    "                moves.append(t)\n",
    "    return moves"
   ]
  },
  {
   "cell_type": "code",
   "execution_count": 25,
   "id": "63aefc35",
   "metadata": {},
   "outputs": [],
   "source": [
    "# keep track of all boards that are seen\n",
    "\n",
    "def evalAll( current, target ):\n",
    "    next = []\n",
    "    for a in current:\n",
    "        n = legalMoves(a[-1])\n",
    "        for q in n:\n",
    "            t = list(a)\n",
    "            t.append(q)\n",
    "            if ( q == target ):\n",
    "                return t\n",
    "            next.append(t)\n",
    "    return next"
   ]
  },
  {
   "cell_type": "code",
   "execution_count": 26,
   "id": "efbb6ade",
   "metadata": {},
   "outputs": [],
   "source": [
    "# a simple wrapper that we can use to set things up and return the final result\n",
    "\n",
    "def solve(start):\n",
    "    temp=[[start]]\n",
    "    end = list(start)\n",
    "    end.reverse()\n",
    "    while(temp[-1] != end):\n",
    "        temp = evalAll(temp, end)\n",
    "    return temp"
   ]
  },
  {
   "cell_type": "code",
   "execution_count": 27,
   "id": "698eb618",
   "metadata": {},
   "outputs": [
    {
     "name": "stdout",
     "output_type": "stream",
     "text": [
      "[[1, 1, 1, 0, -1, -1, -1], [1, 1, 0, 1, -1, -1, -1], [1, 1, -1, 1, 0, -1, -1], [1, 1, -1, 1, -1, 0, -1], [1, 1, -1, 0, -1, 1, -1], [1, 0, -1, 1, -1, 1, -1], [0, 1, -1, 1, -1, 1, -1], [-1, 1, 0, 1, -1, 1, -1], [-1, 1, -1, 1, 0, 1, -1], [-1, 1, -1, 1, -1, 1, 0], [-1, 1, -1, 1, -1, 0, 1], [-1, 1, -1, 0, -1, 1, 1], [-1, 0, -1, 1, -1, 1, 1], [-1, -1, 0, 1, -1, 1, 1], [-1, -1, -1, 1, 0, 1, 1], [-1, -1, -1, 0, 1, 1, 1]]\n"
     ]
    }
   ],
   "source": [
    "# using reprsentation of our frogs\n",
    "\n",
    "print (solve(start))"
   ]
  },
  {
   "cell_type": "code",
   "execution_count": null,
   "id": "f417e119",
   "metadata": {},
   "outputs": [],
   "source": []
  }
 ],
 "metadata": {
  "kernelspec": {
   "display_name": "Python 3",
   "language": "python",
   "name": "python3"
  },
  "language_info": {
   "codemirror_mode": {
    "name": "ipython",
    "version": 3
   },
   "file_extension": ".py",
   "mimetype": "text/x-python",
   "name": "python",
   "nbconvert_exporter": "python",
   "pygments_lexer": "ipython3",
   "version": "3.8.8"
  }
 },
 "nbformat": 4,
 "nbformat_minor": 5
}
